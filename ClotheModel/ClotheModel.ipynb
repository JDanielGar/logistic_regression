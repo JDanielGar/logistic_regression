{
 "cells": [
  {
   "cell_type": "code",
   "execution_count": 42,
   "metadata": {
    "collapsed": true
   },
   "outputs": [],
   "source": [
    "import matplotlib as plt\n",
    "import numpy as np\n",
    "import pandas as pd"
   ]
  },
  {
   "cell_type": "code",
   "execution_count": 43,
   "metadata": {
    "collapsed": true
   },
   "outputs": [],
   "source": [
    "    \n",
    "data = pd.read_excel('data.xlsx')\n",
    "data_likes = data.as_matrix()\n",
    "\n",
    "# data[left:right, bottom:top] data[delete columns, delete rows]\n",
    "\n",
    "# Samples and Dimension\n",
    "\n",
    "N, D = data_likes.shape\n",
    "\n",
    "# To Text\n",
    "\n",
    "data_likes[:, 1][data_likes[:, 1] == 0] = 'Sin mangas'\n",
    "data_likes[:, 1][data_likes[:, 1] == 1] = 'Corta'\n",
    "data_likes[:, 1][data_likes[:, 1] == 2] = 'Larga'\n",
    "\n",
    "# get_ipython().magic('save previous_session ~1/') # 1 = Ipython\n",
    "# get_ipython().magic('save current_session ~0/') # 2 = Python\n",
    "\n",
    "data_likes[:, 2][data_likes[:, 2] == 0] = 'Polo'\n",
    "data_likes[:, 2][data_likes[:, 2] == 1] = 'Scoop'\n",
    "data_likes[:, 2][data_likes[:, 2] == 2] = 'V-Neck'"
   ]
  },
  {
   "cell_type": "code",
   "execution_count": 44,
   "metadata": {
    "collapsed": true
   },
   "outputs": [],
   "source": [
    "# Here come the LIKES\n",
    "\n",
    "likes = np.zeros([N, 1]).T\n",
    "# likes = np.array([1, 1, 0, 1, 0, 0, 0, 0, 0])\n",
    "\n",
    "# likes = []\n",
    "\n",
    "def getLikes():\n",
    "    like = []\n",
    "    for samples in range(0, N):\n",
    "        print(\"Nombre de prenda\", data_likes[samples, 0], \"\\n Caracteristicas: \\n  1)Manga:\", data_likes[samples, 1])\n",
    "        print(\"  2)Cuello:\", data_likes[samples, 2], \"\\n  3)Bolsillos:\", data_likes[samples, 3], \"\\n  4)Botones:\", data_likes[samples, 4])\n",
    "        print(\"  5)Imagen:\", data_likes[samples, 5])\n",
    "        likes[:, samples] = int(input(\"¿Te gusta?. Si(1) | No(0) -> \"))"
   ]
  },
  {
   "cell_type": "code",
   "execution_count": 82,
   "metadata": {},
   "outputs": [
    {
     "data": {
      "text/plain": [
       "array([[ 0.,  0.,  0.,  0.,  0.,  0.,  0.,  0.,  0.]])"
      ]
     },
     "execution_count": 82,
     "metadata": {},
     "output_type": "execute_result"
    }
   ],
   "source": [
    "likes"
   ]
  },
  {
   "cell_type": "code",
   "execution_count": 45,
   "metadata": {
    "collapsed": true
   },
   "outputs": [],
   "source": [
    "# Here Come the predictions\n",
    "\n",
    "data_matrix = data.as_matrix()[:, 1:]\n",
    "\n",
    "# 1) Normalize Columns\n",
    "\n",
    "\n",
    "data_matrix[:, 0] = (data_matrix[:, 0] - data_matrix[:, 0].mean()) / data_matrix[:, 0].std()\n",
    "data_matrix[:, 1] = (data_matrix[:, 1] - data_matrix[:, 1].mean()) / data_matrix[:, 1].std()\n"
   ]
  },
  {
   "cell_type": "code",
   "execution_count": 111,
   "metadata": {},
   "outputs": [
    {
     "data": {
      "text/plain": [
       "array([[0.15075567228888187, 0.5000000000000001, 0, 0, 1],\n",
       "       [0.15075567228888187, 0.5000000000000001, 0, 0, 0],\n",
       "       [1.507556722888818, -1.0, 0, 0, 0],\n",
       "       [0.15075567228888187, 2.0000000000000004, 0, 0, 0],\n",
       "       [1.507556722888818, -1.0, 1, 1, 0],\n",
       "       [-1.2060453783110543, 0.5000000000000001, 0, 0, 1],\n",
       "       [-1.2060453783110543, -1.0, 0, 0, 0],\n",
       "       [0.15075567228888187, -1.0, 1, 0, 1],\n",
       "       [-1.2060453783110543, 0.5000000000000001, 0, 1, 0]], dtype=object)"
      ]
     },
     "execution_count": 111,
     "metadata": {},
     "output_type": "execute_result"
    }
   ],
   "source": [
    "data_matrix"
   ]
  },
  {
   "cell_type": "code",
   "execution_count": 89,
   "metadata": {
    "collapsed": true
   },
   "outputs": [],
   "source": [
    "# 2) Stardard Varibles\n",
    "\n",
    "def getStandardVariables():\n",
    "    global X, Y, W, b\n",
    "    X = data_matrix.astype(float)\n",
    "    Y = likes.astype(float).T\n",
    "    W = np.random.rand(D-1, 1)\n",
    "    b = 0"
   ]
  },
  {
   "cell_type": "code",
   "execution_count": 91,
   "metadata": {
    "collapsed": true
   },
   "outputs": [],
   "source": [
    "getStandardVariables()"
   ]
  },
  {
   "cell_type": "code",
   "execution_count": 92,
   "metadata": {
    "collapsed": true
   },
   "outputs": [],
   "source": [
    "# 3) Define Train and Test\n",
    "\n",
    "def getForwardVariables():\n",
    "    global Xtrain, Ytrain, Xtest, Ytest\n",
    "    Xtrain = X[:6, :]\n",
    "    Ytrain = Y[:6]\n",
    "    Xtest = X[-3:, :]\n",
    "    Ytest = Y[-3:]\n",
    "    print(Ytrain)"
   ]
  },
  {
   "cell_type": "code",
   "execution_count": 93,
   "metadata": {},
   "outputs": [
    {
     "name": "stdout",
     "output_type": "stream",
     "text": [
      "[[ 0.]\n",
      " [ 0.]\n",
      " [ 0.]\n",
      " [ 0.]\n",
      " [ 0.]\n",
      " [ 0.]]\n"
     ]
    }
   ],
   "source": [
    "getForwardVariables()"
   ]
  },
  {
   "cell_type": "code",
   "execution_count": null,
   "metadata": {
    "collapsed": true
   },
   "outputs": [],
   "source": []
  },
  {
   "cell_type": "code",
   "execution_count": 86,
   "metadata": {},
   "outputs": [
    {
     "data": {
      "text/plain": [
       "array([[ 0.,  0.,  0.,  0.,  0.,  0.,  0.,  0.,  0.]])"
      ]
     },
     "execution_count": 86,
     "metadata": {},
     "output_type": "execute_result"
    }
   ],
   "source": [
    "Ytrain"
   ]
  },
  {
   "cell_type": "code",
   "execution_count": 49,
   "metadata": {
    "collapsed": true
   },
   "outputs": [],
   "source": [
    "# 4) Define forward functions\n",
    "\n",
    "def sigmoid(x): # Sigmoid function to give a importance to the data\n",
    "    return 1/(1+np.exp(-x))\n",
    "\n",
    "def forward(w, x, b): # Do the prediction\n",
    "    return sigmoid(x.dot(w)+ b)"
   ]
  },
  {
   "cell_type": "code",
   "execution_count": 50,
   "metadata": {
    "collapsed": true
   },
   "outputs": [],
   "source": [
    "# 6) Classification for seeing the results\n",
    "\n",
    "def classification_rate(Y, P):\n",
    "    return np.mean(Y == P)"
   ]
  },
  {
   "cell_type": "code",
   "execution_count": 71,
   "metadata": {
    "collapsed": true
   },
   "outputs": [],
   "source": [
    "# 5) Define predict function and costs\n",
    "\n",
    "train_costs = []\n",
    "test_costs = []\n",
    "\n",
    "def predict_weight(w, x, b, learn_rate = 0.01, iterations=1000):\n",
    "    global pYtrain, pYtest\n",
    "    for i in range(iterations):\n",
    "        pYtrain = forward(w, Xtrain, b)\n",
    "        pYtest = forward(w, Xtest, b)\n",
    "\n",
    "        ctrain = cross_entropy(Ytrain, pYtrain)\n",
    "        ctest = cross_entropy(Ytest, pYtest)\n",
    "\n",
    "        train_costs.append(ctrain)\n",
    "        test_costs.append(ctest)\n",
    "        \n",
    "        gradientDescent(Xtrain, Ytrain, pYtrain, learn_rate);\n",
    "\n",
    "        if(1 % 1000 == 0):\n",
    "            print(i, ctrain, ctest)\n",
    "\n",
    "    print(\"Final train Classification rate\", classification_rate(Ytrain, np.round(pYtrain)))\n",
    "    print(\"Final test classification rate\", classification_rate(Ytest, np.round(pYtest)))\n",
    "\n",
    "    \n",
    "\n",
    "def gradientDescent(Xtrain, Ytrain, pYtrain, learn_rate):\n",
    "    global W, b\n",
    "    W -= learn_rate * Xtrain.dot((pYtrain - Ytrain).T)\n",
    "    b -= learn_rate * (pYtrain - Ytrain).sum()\n",
    "    \n",
    "\n"
   ]
  },
  {
   "cell_type": "code",
   "execution_count": 77,
   "metadata": {},
   "outputs": [
    {
     "data": {
      "text/plain": [
       "array([[ 0.679477  ],\n",
       "       [ 0.61651287],\n",
       "       [ 0.64941459],\n",
       "       [ 0.81870366],\n",
       "       [ 0.79452638],\n",
       "       [ 0.39576548]])"
      ]
     },
     "execution_count": 77,
     "metadata": {},
     "output_type": "execute_result"
    }
   ],
   "source": [
    "forward(W, Xtrain, b)"
   ]
  },
  {
   "cell_type": "code",
   "execution_count": 112,
   "metadata": {},
   "outputs": [
    {
     "data": {
      "text/plain": [
       "array([[ 0.7346797 ],\n",
       "       [ 0.62097463],\n",
       "       [ 0.68439153],\n",
       "       [ 0.82264887],\n",
       "       [ 0.90811593],\n",
       "       [ 0.42493311]])"
      ]
     },
     "execution_count": 112,
     "metadata": {},
     "output_type": "execute_result"
    }
   ],
   "source": [
    "pYtrain"
   ]
  },
  {
   "cell_type": "code",
   "execution_count": 113,
   "metadata": {},
   "outputs": [
    {
     "data": {
      "text/plain": [
       "array([[ 0.],\n",
       "       [ 0.],\n",
       "       [ 0.],\n",
       "       [ 0.],\n",
       "       [ 0.],\n",
       "       [ 0.]])"
      ]
     },
     "execution_count": 113,
     "metadata": {},
     "output_type": "execute_result"
    }
   ],
   "source": [
    "Ytrain"
   ]
  },
  {
   "cell_type": "code",
   "execution_count": 75,
   "metadata": {},
   "outputs": [
    {
     "data": {
      "text/plain": [
       "array([[ 0.15075567,  0.5       ,  0.        ,  0.        ,  1.        ],\n",
       "       [ 0.15075567,  0.5       ,  0.        ,  0.        ,  0.        ],\n",
       "       [ 1.50755672, -1.        ,  0.        ,  0.        ,  0.        ],\n",
       "       [ 0.15075567,  2.        ,  0.        ,  0.        ,  0.        ],\n",
       "       [ 1.50755672, -1.        ,  1.        ,  1.        ,  0.        ],\n",
       "       [-1.20604538,  0.5       ,  0.        ,  0.        ,  1.        ]])"
      ]
     },
     "execution_count": 75,
     "metadata": {},
     "output_type": "execute_result"
    }
   ],
   "source": [
    "Xtrain"
   ]
  },
  {
   "cell_type": "code",
   "execution_count": 97,
   "metadata": {},
   "outputs": [
    {
     "data": {
      "text/plain": [
       "array([[ 0.15075567,  0.5       ,  0.        ,  0.        ,  1.        ],\n",
       "       [ 0.15075567,  0.5       ,  0.        ,  0.        ,  0.        ],\n",
       "       [ 1.50755672, -1.        ,  0.        ,  0.        ,  0.        ],\n",
       "       [ 0.15075567,  2.        ,  0.        ,  0.        ,  0.        ],\n",
       "       [ 1.50755672, -1.        ,  1.        ,  1.        ,  0.        ],\n",
       "       [-1.20604538,  0.5       ,  0.        ,  0.        ,  1.        ]])"
      ]
     },
     "execution_count": 97,
     "metadata": {},
     "output_type": "execute_result"
    }
   ],
   "source": [
    "Xtrain"
   ]
  },
  {
   "cell_type": "code",
   "execution_count": 110,
   "metadata": {},
   "outputs": [
    {
     "data": {
      "text/plain": [
       "array([[ 0.7346797 ,  0.62097463,  0.68439153,  0.82264887,  0.90811593,\n",
       "         0.42493311]])"
      ]
     },
     "execution_count": 110,
     "metadata": {},
     "output_type": "execute_result"
    }
   ],
   "source": [
    "(pYtrain - Ytrain).T"
   ]
  },
  {
   "cell_type": "code",
   "execution_count": 109,
   "metadata": {},
   "outputs": [
    {
     "data": {
      "text/plain": [
       "array([[ 0.15075567,  0.5       ,  0.        ,  0.        ,  1.        ],\n",
       "       [ 0.15075567,  0.5       ,  0.        ,  0.        ,  0.        ],\n",
       "       [ 1.50755672, -1.        ,  0.        ,  0.        ,  0.        ],\n",
       "       [ 0.15075567,  2.        ,  0.        ,  0.        ,  0.        ],\n",
       "       [ 1.50755672, -1.        ,  1.        ,  1.        ,  0.        ],\n",
       "       [-1.20604538,  0.5       ,  0.        ,  0.        ,  1.        ]])"
      ]
     },
     "execution_count": 109,
     "metadata": {},
     "output_type": "execute_result"
    }
   ],
   "source": [
    "Xtrain * np.array([1, 1, 1, 1, 1])"
   ]
  },
  {
   "cell_type": "code",
   "execution_count": null,
   "metadata": {
    "collapsed": true
   },
   "outputs": [],
   "source": []
  },
  {
   "cell_type": "code",
   "execution_count": 95,
   "metadata": {
    "scrolled": true
   },
   "outputs": [
    {
     "ename": "ValueError",
     "evalue": "shapes (6,5) and (1,6) not aligned: 5 (dim 1) != 1 (dim 0)",
     "output_type": "error",
     "traceback": [
      "\u001b[1;31m---------------------------------------------------------------------------\u001b[0m",
      "\u001b[1;31mValueError\u001b[0m                                Traceback (most recent call last)",
      "\u001b[1;32m<ipython-input-95-7beb3caf85ab>\u001b[0m in \u001b[0;36m<module>\u001b[1;34m()\u001b[0m\n\u001b[1;32m----> 1\u001b[1;33m \u001b[0mpredict_weight\u001b[0m\u001b[1;33m(\u001b[0m\u001b[0mW\u001b[0m\u001b[1;33m,\u001b[0m \u001b[0mXtrain\u001b[0m\u001b[1;33m,\u001b[0m \u001b[0mb\u001b[0m\u001b[1;33m)\u001b[0m\u001b[1;33m\u001b[0m\u001b[0m\n\u001b[0m",
      "\u001b[1;32m<ipython-input-71-1acdb0190163>\u001b[0m in \u001b[0;36mpredict_weight\u001b[1;34m(w, x, b, learn_rate, iterations)\u001b[0m\n\u001b[0;32m     16\u001b[0m         \u001b[0mtest_costs\u001b[0m\u001b[1;33m.\u001b[0m\u001b[0mappend\u001b[0m\u001b[1;33m(\u001b[0m\u001b[0mctest\u001b[0m\u001b[1;33m)\u001b[0m\u001b[1;33m\u001b[0m\u001b[0m\n\u001b[0;32m     17\u001b[0m \u001b[1;33m\u001b[0m\u001b[0m\n\u001b[1;32m---> 18\u001b[1;33m         \u001b[0mgradientDescent\u001b[0m\u001b[1;33m(\u001b[0m\u001b[0mXtrain\u001b[0m\u001b[1;33m,\u001b[0m \u001b[0mYtrain\u001b[0m\u001b[1;33m,\u001b[0m \u001b[0mpYtrain\u001b[0m\u001b[1;33m,\u001b[0m \u001b[0mlearn_rate\u001b[0m\u001b[1;33m)\u001b[0m\u001b[1;33m;\u001b[0m\u001b[1;33m\u001b[0m\u001b[0m\n\u001b[0m\u001b[0;32m     19\u001b[0m \u001b[1;33m\u001b[0m\u001b[0m\n\u001b[0;32m     20\u001b[0m         \u001b[1;32mif\u001b[0m\u001b[1;33m(\u001b[0m\u001b[1;36m1\u001b[0m \u001b[1;33m%\u001b[0m \u001b[1;36m1000\u001b[0m \u001b[1;33m==\u001b[0m \u001b[1;36m0\u001b[0m\u001b[1;33m)\u001b[0m\u001b[1;33m:\u001b[0m\u001b[1;33m\u001b[0m\u001b[0m\n",
      "\u001b[1;32m<ipython-input-71-1acdb0190163>\u001b[0m in \u001b[0;36mgradientDescent\u001b[1;34m(Xtrain, Ytrain, pYtrain, learn_rate)\u001b[0m\n\u001b[0;32m     28\u001b[0m \u001b[1;32mdef\u001b[0m \u001b[0mgradientDescent\u001b[0m\u001b[1;33m(\u001b[0m\u001b[0mXtrain\u001b[0m\u001b[1;33m,\u001b[0m \u001b[0mYtrain\u001b[0m\u001b[1;33m,\u001b[0m \u001b[0mpYtrain\u001b[0m\u001b[1;33m,\u001b[0m \u001b[0mlearn_rate\u001b[0m\u001b[1;33m)\u001b[0m\u001b[1;33m:\u001b[0m\u001b[1;33m\u001b[0m\u001b[0m\n\u001b[0;32m     29\u001b[0m     \u001b[1;32mglobal\u001b[0m \u001b[0mW\u001b[0m\u001b[1;33m,\u001b[0m \u001b[0mb\u001b[0m\u001b[1;33m\u001b[0m\u001b[0m\n\u001b[1;32m---> 30\u001b[1;33m     \u001b[0mW\u001b[0m \u001b[1;33m-=\u001b[0m \u001b[0mlearn_rate\u001b[0m \u001b[1;33m*\u001b[0m \u001b[0mXtrain\u001b[0m\u001b[1;33m.\u001b[0m\u001b[0mdot\u001b[0m\u001b[1;33m(\u001b[0m\u001b[1;33m(\u001b[0m\u001b[0mpYtrain\u001b[0m \u001b[1;33m-\u001b[0m \u001b[0mYtrain\u001b[0m\u001b[1;33m)\u001b[0m\u001b[1;33m.\u001b[0m\u001b[0mT\u001b[0m\u001b[1;33m)\u001b[0m\u001b[1;33m\u001b[0m\u001b[0m\n\u001b[0m\u001b[0;32m     31\u001b[0m     \u001b[0mb\u001b[0m \u001b[1;33m-=\u001b[0m \u001b[0mlearn_rate\u001b[0m \u001b[1;33m*\u001b[0m \u001b[1;33m(\u001b[0m\u001b[0mpYtrain\u001b[0m \u001b[1;33m-\u001b[0m \u001b[0mYtrain\u001b[0m\u001b[1;33m)\u001b[0m\u001b[1;33m.\u001b[0m\u001b[0msum\u001b[0m\u001b[1;33m(\u001b[0m\u001b[1;33m)\u001b[0m\u001b[1;33m\u001b[0m\u001b[0m\n\u001b[0;32m     32\u001b[0m \u001b[1;33m\u001b[0m\u001b[0m\n",
      "\u001b[1;31mValueError\u001b[0m: shapes (6,5) and (1,6) not aligned: 5 (dim 1) != 1 (dim 0)"
     ]
    }
   ],
   "source": [
    "predict_weight(W, Xtrain, b)"
   ]
  },
  {
   "cell_type": "code",
   "execution_count": null,
   "metadata": {
    "collapsed": true
   },
   "outputs": [],
   "source": []
  },
  {
   "cell_type": "code",
   "execution_count": 52,
   "metadata": {},
   "outputs": [
    {
     "name": "stdout",
     "output_type": "stream",
     "text": [
      "Nombre de prenda Deniseausti \n",
      " Caracteristicas: \n",
      "  1)Manga: Corta\n",
      "  2)Cuello: Scoop \n",
      "  3)Bolsillos: 0 \n",
      "  4)Botones: 0\n",
      "  5)Imagen: 1\n",
      "¿Te gusta?. Si(1) | No(0) -> 0\n",
      "Nombre de prenda Nyfifth  \n",
      " Caracteristicas: \n",
      "  1)Manga: Corta\n",
      "  2)Cuello: Scoop \n",
      "  3)Bolsillos: 0 \n",
      "  4)Botones: 0\n",
      "  5)Imagen: 0\n",
      "¿Te gusta?. Si(1) | No(0) -> 0\n",
      "Nombre de prenda Ilovecashmere  \n",
      " Caracteristicas: \n",
      "  1)Manga: Larga\n",
      "  2)Cuello: Polo \n",
      "  3)Bolsillos: 0 \n",
      "  4)Botones: 0\n",
      "  5)Imagen: 0\n",
      "¿Te gusta?. Si(1) | No(0) -> 0\n",
      "Nombre de prenda Walmart  \n",
      " Caracteristicas: \n",
      "  1)Manga: Corta\n",
      "  2)Cuello: V-Neck \n",
      "  3)Bolsillos: 0 \n",
      "  4)Botones: 0\n",
      "  5)Imagen: 0\n",
      "¿Te gusta?. Si(1) | No(0) -> 0\n",
      "Nombre de prenda Tackroominc \n",
      " Caracteristicas: \n",
      "  1)Manga: Larga\n",
      "  2)Cuello: Polo \n",
      "  3)Bolsillos: 1 \n",
      "  4)Botones: 1\n",
      "  5)Imagen: 0\n",
      "¿Te gusta?. Si(1) | No(0) -> 0\n",
      "Nombre de prenda Shaina \n",
      " Caracteristicas: \n",
      "  1)Manga: Sin mangas\n",
      "  2)Cuello: Scoop \n",
      "  3)Bolsillos: 0 \n",
      "  4)Botones: 0\n",
      "  5)Imagen: 1\n",
      "¿Te gusta?. Si(1) | No(0) -> 0\n",
      "Nombre de prenda Test \n",
      " Caracteristicas: \n",
      "  1)Manga: Sin mangas\n",
      "  2)Cuello: Polo \n",
      "  3)Bolsillos: 0 \n",
      "  4)Botones: 0\n",
      "  5)Imagen: 0\n",
      "¿Te gusta?. Si(1) | No(0) -> 0\n",
      "Nombre de prenda Test \n",
      " Caracteristicas: \n",
      "  1)Manga: Corta\n",
      "  2)Cuello: Polo \n",
      "  3)Bolsillos: 1 \n",
      "  4)Botones: 0\n",
      "  5)Imagen: 1\n",
      "¿Te gusta?. Si(1) | No(0) -> 0\n",
      "Nombre de prenda Test \n",
      " Caracteristicas: \n",
      "  1)Manga: Sin mangas\n",
      "  2)Cuello: Scoop \n",
      "  3)Bolsillos: 0 \n",
      "  4)Botones: 1\n",
      "  5)Imagen: 0\n",
      "¿Te gusta?. Si(1) | No(0) -> 0\n"
     ]
    }
   ],
   "source": [
    "getLikes()"
   ]
  },
  {
   "cell_type": "code",
   "execution_count": 53,
   "metadata": {
    "collapsed": true
   },
   "outputs": [],
   "source": [
    "getStandardVariables()"
   ]
  },
  {
   "cell_type": "code",
   "execution_count": 54,
   "metadata": {
    "collapsed": true
   },
   "outputs": [],
   "source": [
    "getForwardVariables()"
   ]
  },
  {
   "cell_type": "code",
   "execution_count": 55,
   "metadata": {},
   "outputs": [
    {
     "data": {
      "text/plain": [
       "array([[ 0.8656464 ],\n",
       "       [ 0.68854407],\n",
       "       [ 0.32490907],\n",
       "       [ 0.41105245],\n",
       "       [ 0.27659623]])"
      ]
     },
     "execution_count": 55,
     "metadata": {},
     "output_type": "execute_result"
    }
   ],
   "source": [
    "W"
   ]
  },
  {
   "cell_type": "code",
   "execution_count": 56,
   "metadata": {},
   "outputs": [
    {
     "data": {
      "text/plain": [
       "array([[ 0.15075567,  0.5       ,  0.        ,  0.        ,  1.        ],\n",
       "       [ 0.15075567,  0.5       ,  0.        ,  0.        ,  0.        ],\n",
       "       [ 1.50755672, -1.        ,  0.        ,  0.        ,  0.        ],\n",
       "       [ 0.15075567,  2.        ,  0.        ,  0.        ,  0.        ],\n",
       "       [ 1.50755672, -1.        ,  1.        ,  1.        ,  0.        ],\n",
       "       [-1.20604538,  0.5       ,  0.        ,  0.        ,  1.        ],\n",
       "       [-1.20604538, -1.        ,  0.        ,  0.        ,  0.        ],\n",
       "       [ 0.15075567, -1.        ,  1.        ,  0.        ,  1.        ],\n",
       "       [-1.20604538,  0.5       ,  0.        ,  1.        ,  0.        ]])"
      ]
     },
     "execution_count": 56,
     "metadata": {},
     "output_type": "execute_result"
    }
   ],
   "source": [
    "X"
   ]
  },
  {
   "cell_type": "code",
   "execution_count": 57,
   "metadata": {},
   "outputs": [
    {
     "ename": "ValueError",
     "evalue": "shapes (6,5) and (9,6) not aligned: 5 (dim 1) != 9 (dim 0)",
     "output_type": "error",
     "traceback": [
      "\u001b[1;31m---------------------------------------------------------------------------\u001b[0m",
      "\u001b[1;31mValueError\u001b[0m                                Traceback (most recent call last)",
      "\u001b[1;32m<ipython-input-57-85caa1a45027>\u001b[0m in \u001b[0;36m<module>\u001b[1;34m()\u001b[0m\n\u001b[1;32m----> 1\u001b[1;33m \u001b[0mpredict_weight\u001b[0m\u001b[1;33m(\u001b[0m\u001b[0mW\u001b[0m\u001b[1;33m,\u001b[0m \u001b[0mX\u001b[0m\u001b[1;33m,\u001b[0m \u001b[0mb\u001b[0m\u001b[1;33m)\u001b[0m\u001b[1;33m\u001b[0m\u001b[0m\n\u001b[0m",
      "\u001b[1;32m<ipython-input-51-1acdb0190163>\u001b[0m in \u001b[0;36mpredict_weight\u001b[1;34m(w, x, b, learn_rate, iterations)\u001b[0m\n\u001b[0;32m     16\u001b[0m         \u001b[0mtest_costs\u001b[0m\u001b[1;33m.\u001b[0m\u001b[0mappend\u001b[0m\u001b[1;33m(\u001b[0m\u001b[0mctest\u001b[0m\u001b[1;33m)\u001b[0m\u001b[1;33m\u001b[0m\u001b[0m\n\u001b[0;32m     17\u001b[0m \u001b[1;33m\u001b[0m\u001b[0m\n\u001b[1;32m---> 18\u001b[1;33m         \u001b[0mgradientDescent\u001b[0m\u001b[1;33m(\u001b[0m\u001b[0mXtrain\u001b[0m\u001b[1;33m,\u001b[0m \u001b[0mYtrain\u001b[0m\u001b[1;33m,\u001b[0m \u001b[0mpYtrain\u001b[0m\u001b[1;33m,\u001b[0m \u001b[0mlearn_rate\u001b[0m\u001b[1;33m)\u001b[0m\u001b[1;33m;\u001b[0m\u001b[1;33m\u001b[0m\u001b[0m\n\u001b[0m\u001b[0;32m     19\u001b[0m \u001b[1;33m\u001b[0m\u001b[0m\n\u001b[0;32m     20\u001b[0m         \u001b[1;32mif\u001b[0m\u001b[1;33m(\u001b[0m\u001b[1;36m1\u001b[0m \u001b[1;33m%\u001b[0m \u001b[1;36m1000\u001b[0m \u001b[1;33m==\u001b[0m \u001b[1;36m0\u001b[0m\u001b[1;33m)\u001b[0m\u001b[1;33m:\u001b[0m\u001b[1;33m\u001b[0m\u001b[0m\n",
      "\u001b[1;32m<ipython-input-51-1acdb0190163>\u001b[0m in \u001b[0;36mgradientDescent\u001b[1;34m(Xtrain, Ytrain, pYtrain, learn_rate)\u001b[0m\n\u001b[0;32m     28\u001b[0m \u001b[1;32mdef\u001b[0m \u001b[0mgradientDescent\u001b[0m\u001b[1;33m(\u001b[0m\u001b[0mXtrain\u001b[0m\u001b[1;33m,\u001b[0m \u001b[0mYtrain\u001b[0m\u001b[1;33m,\u001b[0m \u001b[0mpYtrain\u001b[0m\u001b[1;33m,\u001b[0m \u001b[0mlearn_rate\u001b[0m\u001b[1;33m)\u001b[0m\u001b[1;33m:\u001b[0m\u001b[1;33m\u001b[0m\u001b[0m\n\u001b[0;32m     29\u001b[0m     \u001b[1;32mglobal\u001b[0m \u001b[0mW\u001b[0m\u001b[1;33m,\u001b[0m \u001b[0mb\u001b[0m\u001b[1;33m\u001b[0m\u001b[0m\n\u001b[1;32m---> 30\u001b[1;33m     \u001b[0mW\u001b[0m \u001b[1;33m-=\u001b[0m \u001b[0mlearn_rate\u001b[0m \u001b[1;33m*\u001b[0m \u001b[0mXtrain\u001b[0m\u001b[1;33m.\u001b[0m\u001b[0mdot\u001b[0m\u001b[1;33m(\u001b[0m\u001b[1;33m(\u001b[0m\u001b[0mpYtrain\u001b[0m \u001b[1;33m-\u001b[0m \u001b[0mYtrain\u001b[0m\u001b[1;33m)\u001b[0m\u001b[1;33m.\u001b[0m\u001b[0mT\u001b[0m\u001b[1;33m)\u001b[0m\u001b[1;33m\u001b[0m\u001b[0m\n\u001b[0m\u001b[0;32m     31\u001b[0m     \u001b[0mb\u001b[0m \u001b[1;33m-=\u001b[0m \u001b[0mlearn_rate\u001b[0m \u001b[1;33m*\u001b[0m \u001b[1;33m(\u001b[0m\u001b[0mpYtrain\u001b[0m \u001b[1;33m-\u001b[0m \u001b[0mYtrain\u001b[0m\u001b[1;33m)\u001b[0m\u001b[1;33m.\u001b[0m\u001b[0msum\u001b[0m\u001b[1;33m(\u001b[0m\u001b[1;33m)\u001b[0m\u001b[1;33m\u001b[0m\u001b[0m\n\u001b[0;32m     32\u001b[0m \u001b[1;33m\u001b[0m\u001b[0m\n",
      "\u001b[1;31mValueError\u001b[0m: shapes (6,5) and (9,6) not aligned: 5 (dim 1) != 9 (dim 0)"
     ]
    }
   ],
   "source": [
    "predict_weight(W, X, b)"
   ]
  },
  {
   "cell_type": "code",
   "execution_count": 58,
   "metadata": {
    "collapsed": true
   },
   "outputs": [],
   "source": [
    "\n",
    "def gradientDescent(Xtrain, Ytrain, pYtrain, learn_rate):\n",
    "    global W, b, test\n",
    "    test = pYtrain\n",
    "    W -= learn_rate * Xtrain.dot((pYtrain - Ytrain.T).T)\n",
    "    b -= learn_rate * (pYtrain - Ytrain).sum()\n",
    "\n",
    "    "
   ]
  },
  {
   "cell_type": "code",
   "execution_count": null,
   "metadata": {
    "collapsed": true
   },
   "outputs": [],
   "source": []
  }
 ],
 "metadata": {
  "kernelspec": {
   "display_name": "Python 3",
   "language": "python",
   "name": "python3"
  },
  "language_info": {
   "codemirror_mode": {
    "name": "ipython",
    "version": 3
   },
   "file_extension": ".py",
   "mimetype": "text/x-python",
   "name": "python",
   "nbconvert_exporter": "python",
   "pygments_lexer": "ipython3",
   "version": "3.6.1"
  }
 },
 "nbformat": 4,
 "nbformat_minor": 2
}
