{
 "cells": [
  {
   "cell_type": "code",
   "execution_count": 1,
   "metadata": {
    "collapsed": true
   },
   "outputs": [],
   "source": [
    "import pandas as pd\n",
    "import numpy as np"
   ]
  },
  {
   "cell_type": "code",
   "execution_count": 2,
   "metadata": {
    "collapsed": true
   },
   "outputs": [],
   "source": [
    "excel = pd.read_excel('./data.xlsx')"
   ]
  },
  {
   "cell_type": "markdown",
   "metadata": {},
   "source": [
    "# Data Preprocessing"
   ]
  },
  {
   "cell_type": "markdown",
   "metadata": {},
   "source": [
    "#### As a Matrix"
   ]
  },
  {
   "cell_type": "code",
   "execution_count": 3,
   "metadata": {
    "collapsed": true
   },
   "outputs": [],
   "source": [
    "data = excel.as_matrix()"
   ]
  },
  {
   "cell_type": "markdown",
   "metadata": {},
   "source": [
    "##### X matrix processing (Normalize columns)"
   ]
  },
  {
   "cell_type": "code",
   "execution_count": 4,
   "metadata": {
    "collapsed": true
   },
   "outputs": [],
   "source": [
    "X = data[:, 1:]\n",
    "X[:, 0] = (X[:, 0] - X[:, 0].mean()) / X[:, 0].std()\n",
    "X[:, 1] = (X[:, 1] - X[:, 1].mean()) / X[:, 1].std()"
   ]
  },
  {
   "cell_type": "markdown",
   "metadata": {},
   "source": [
    "#### X matrix as float type"
   ]
  },
  {
   "cell_type": "code",
   "execution_count": 5,
   "metadata": {
    "collapsed": true
   },
   "outputs": [],
   "source": [
    "X = X.astype(float)"
   ]
  },
  {
   "cell_type": "markdown",
   "metadata": {},
   "source": [
    "#### Y matrix"
   ]
  },
  {
   "cell_type": "code",
   "execution_count": 6,
   "metadata": {
    "collapsed": true
   },
   "outputs": [],
   "source": [
    "Y = np.array([[1, 1, 0, 1, 0, 0, 0, 0, 0]]).T"
   ]
  },
  {
   "cell_type": "code",
   "execution_count": 7,
   "metadata": {
    "collapsed": true
   },
   "outputs": [],
   "source": [
    "# Only if we want to test."
   ]
  },
  {
   "cell_type": "markdown",
   "metadata": {},
   "source": [
    "# Weight and Dimensions"
   ]
  },
  {
   "cell_type": "code",
   "execution_count": 8,
   "metadata": {
    "collapsed": true
   },
   "outputs": [],
   "source": [
    "N, D = X.shape\n",
    "W = np.random.randn(D, 1)\n",
    "b = 0"
   ]
  },
  {
   "cell_type": "markdown",
   "metadata": {},
   "source": [
    "# Forward Variables"
   ]
  },
  {
   "cell_type": "code",
   "execution_count": 9,
   "metadata": {
    "collapsed": true
   },
   "outputs": [],
   "source": [
    "# Train\n",
    "\n",
    "Xtrain = X[:6, :]\n",
    "Ytrain = Y[:6, :]\n",
    "\n",
    "# Test\n",
    "\n",
    "Xtest = X[6:, :]\n",
    "Ytest = Y[6:, :]"
   ]
  },
  {
   "cell_type": "markdown",
   "metadata": {},
   "source": [
    "# Prediction Function"
   ]
  },
  {
   "cell_type": "code",
   "execution_count": 10,
   "metadata": {
    "collapsed": true
   },
   "outputs": [],
   "source": [
    "def sigmoid(x):\n",
    "    return 1/(1+np.exp(-x))"
   ]
  },
  {
   "cell_type": "markdown",
   "metadata": {},
   "source": [
    "# Forward Function"
   ]
  },
  {
   "cell_type": "code",
   "execution_count": 11,
   "metadata": {
    "collapsed": true
   },
   "outputs": [],
   "source": [
    "def forward(w, x, b): # Do the prediction\n",
    "    return sigmoid(x.dot(w)+ b)"
   ]
  },
  {
   "cell_type": "markdown",
   "metadata": {},
   "source": [
    "# Clasification Rate"
   ]
  },
  {
   "cell_type": "code",
   "execution_count": 12,
   "metadata": {
    "collapsed": true
   },
   "outputs": [],
   "source": [
    "def classification_rate(Y, P):\n",
    "    return np.mean(Y == P)"
   ]
  },
  {
   "cell_type": "markdown",
   "metadata": {},
   "source": [
    "# Cross Entropy"
   ]
  },
  {
   "cell_type": "code",
   "execution_count": 16,
   "metadata": {
    "collapsed": true
   },
   "outputs": [],
   "source": [
    "def cross_entropy(t, y): # Targets and predictions\n",
    "    return t * np.log(y) + (1-t) * np.log(1-y)"
   ]
  },
  {
   "cell_type": "markdown",
   "metadata": {},
   "source": [
    "# Final..."
   ]
  },
  {
   "cell_type": "code",
   "execution_count": 27,
   "metadata": {},
   "outputs": [
    {
     "name": "stdout",
     "output_type": "stream",
     "text": [
      "Final train Classification rate 1.0\n",
      "Final test classification rate 1.0\n"
     ]
    }
   ],
   "source": [
    "learn_rate = 0.01\n",
    "iterations = 1000\n",
    "\n",
    "train_costs = []\n",
    "test_costs = []\n",
    "\n",
    "for i in range(iterations):\n",
    "    pYtrain = forward(W, Xtrain, b)\n",
    "    pYtest = forward(W, Xtest, b)\n",
    "\n",
    "    ctrain = cross_entropy(Ytrain, pYtrain)\n",
    "    ctest = cross_entropy(Ytest, pYtest)\n",
    "\n",
    "    train_costs.append(ctrain)\n",
    "    test_costs.append(ctest)\n",
    "        \n",
    "    # Gradient Descent\n",
    "    \n",
    "    W -= learn_rate * Xtrain.T.dot(pYtrain - Ytrain)\n",
    "    b -= learn_rate * (pYtrain - Ytrain).sum()\n",
    "\n",
    "    if(1 % 1000 == 0):\n",
    "        print(i, ctrain, ctest)\n",
    "\n",
    "print(\"Final train Classification rate\", classification_rate(Ytrain, np.round(pYtrain)))\n",
    "print(\"Final test classification rate\", classification_rate(Ytest, np.round(pYtest)))"
   ]
  },
  {
   "cell_type": "code",
   "execution_count": 28,
   "metadata": {},
   "outputs": [
    {
     "data": {
      "text/plain": [
       "array([[ 2.73677242],\n",
       "       [ 5.83932216],\n",
       "       [-0.6779961 ],\n",
       "       [-0.68119962],\n",
       "       [-0.53990271]])"
      ]
     },
     "execution_count": 28,
     "metadata": {},
     "output_type": "execute_result"
    }
   ],
   "source": [
    "W"
   ]
  },
  {
   "cell_type": "code",
   "execution_count": 19,
   "metadata": {},
   "outputs": [
    {
     "data": {
      "text/plain": [
       "array([[ 0.15075567,  0.5       ,  0.        ,  0.        ,  1.        ],\n",
       "       [ 0.15075567,  0.5       ,  0.        ,  0.        ,  0.        ],\n",
       "       [ 1.50755672, -1.        ,  0.        ,  0.        ,  0.        ],\n",
       "       [ 0.15075567,  2.        ,  0.        ,  0.        ,  0.        ],\n",
       "       [ 1.50755672, -1.        ,  1.        ,  1.        ,  0.        ],\n",
       "       [-1.20604538,  0.5       ,  0.        ,  0.        ,  1.        ],\n",
       "       [-1.20604538, -1.        ,  0.        ,  0.        ,  0.        ],\n",
       "       [ 0.15075567, -1.        ,  1.        ,  0.        ,  1.        ],\n",
       "       [-1.20604538,  0.5       ,  0.        ,  1.        ,  0.        ]])"
      ]
     },
     "execution_count": 19,
     "metadata": {},
     "output_type": "execute_result"
    }
   ],
   "source": [
    "X"
   ]
  },
  {
   "cell_type": "code",
   "execution_count": 20,
   "metadata": {},
   "outputs": [
    {
     "data": {
      "text/plain": [
       "array([['Deniseausti', 0.15075567228888187, 0.5000000000000001, 0, 0, 1],\n",
       "       ['Nyfifth ', 0.15075567228888187, 0.5000000000000001, 0, 0, 0],\n",
       "       ['Ilovecashmere ', 1.507556722888818, -1.0, 0, 0, 0],\n",
       "       ['Walmart ', 0.15075567228888187, 2.0000000000000004, 0, 0, 0],\n",
       "       ['Tackroominc', 1.507556722888818, -1.0, 1, 1, 0],\n",
       "       ['Shaina', -1.2060453783110543, 0.5000000000000001, 0, 0, 1],\n",
       "       ['Test', -1.2060453783110543, -1.0, 0, 0, 0],\n",
       "       ['Test', 0.15075567228888187, -1.0, 1, 0, 1],\n",
       "       ['Test', -1.2060453783110543, 0.5000000000000001, 0, 1, 0]], dtype=object)"
      ]
     },
     "execution_count": 20,
     "metadata": {},
     "output_type": "execute_result"
    }
   ],
   "source": [
    "data"
   ]
  },
  {
   "cell_type": "code",
   "execution_count": 21,
   "metadata": {},
   "outputs": [
    {
     "data": {
      "text/plain": [
       "array([[ 0.15075567,  0.5       ,  0.        ,  0.        ,  1.        ],\n",
       "       [ 0.15075567,  0.5       ,  0.        ,  0.        ,  0.        ],\n",
       "       [ 1.50755672, -1.        ,  0.        ,  0.        ,  0.        ],\n",
       "       [ 0.15075567,  2.        ,  0.        ,  0.        ,  0.        ],\n",
       "       [ 1.50755672, -1.        ,  1.        ,  1.        ,  0.        ],\n",
       "       [-1.20604538,  0.5       ,  0.        ,  0.        ,  1.        ],\n",
       "       [-1.20604538, -1.        ,  0.        ,  0.        ,  0.        ],\n",
       "       [ 0.15075567, -1.        ,  1.        ,  0.        ,  1.        ],\n",
       "       [-1.20604538,  0.5       ,  0.        ,  1.        ,  0.        ]])"
      ]
     },
     "execution_count": 21,
     "metadata": {},
     "output_type": "execute_result"
    }
   ],
   "source": [
    "X"
   ]
  },
  {
   "cell_type": "code",
   "execution_count": 22,
   "metadata": {},
   "outputs": [
    {
     "data": {
      "text/plain": [
       "array([[ 0.78839649]])"
      ]
     },
     "execution_count": 22,
     "metadata": {},
     "output_type": "execute_result"
    }
   ],
   "source": [
    "forward(W, X[:1, :], b)"
   ]
  },
  {
   "cell_type": "markdown",
   "metadata": {},
   "source": [
    "# Get Likes"
   ]
  },
  {
   "cell_type": "code",
   "execution_count": 23,
   "metadata": {
    "collapsed": true
   },
   "outputs": [],
   "source": [
    "data_likes = excel.as_matrix()\n",
    "\n",
    "# data[left:right, bottom:top] data[delete columns, delete rows]\n",
    "\n",
    "# Samples and Dimension\n",
    "\n",
    "N, D = data_likes.shape\n",
    "\n",
    "# To Text\n",
    "\n",
    "data_likes[:, 1][data_likes[:, 1] == 0] = 'Sin mangas'\n",
    "data_likes[:, 1][data_likes[:, 1] == 1] = 'Corta'\n",
    "data_likes[:, 1][data_likes[:, 1] == 2] = 'Larga'\n",
    "\n",
    "# get_ipython().magic('save previous_session ~1/') # 1 = Ipython\n",
    "# get_ipython().magic('save current_session ~0/') # 2 = Python\n",
    "\n",
    "data_likes[:, 2][data_likes[:, 2] == 0] = 'Polo'\n",
    "data_likes[:, 2][data_likes[:, 2] == 1] = 'Scoop'\n",
    "data_likes[:, 2][data_likes[:, 2] == 2] = 'V-Neck'"
   ]
  },
  {
   "cell_type": "code",
   "execution_count": 24,
   "metadata": {
    "collapsed": true
   },
   "outputs": [],
   "source": [
    "def getLikes():\n",
    "    likes = []\n",
    "    for samples in range(0, N):\n",
    "        menu_options = True;\n",
    "        while(menu_options):\n",
    "            print(\"Nombre de prenda\", data_likes[samples, 0], \"\\n Caracteristicas: \\n  1)Manga:\", data_likes[samples, 1])\n",
    "            print(\"  2)Cuello:\", data_likes[samples, 2], \"\\n  3)Bolsillos:\", data_likes[samples, 3], \"\\n  4)Botones:\", data_likes[samples, 4])\n",
    "            print(\"  5)Imagen:\", data_likes[samples, 5])\n",
    "            like = float(input(\"¿Te gusta?. Si(1) | No(0) -> \"))\n",
    "            if(like == 0 or like == 1):\n",
    "                menu_options = False\n",
    "            else:\n",
    "                print('Only numbers between 0 and 1.')\n",
    "        likes.append(like)\n",
    "    return likes"
   ]
  },
  {
   "cell_type": "code",
   "execution_count": 25,
   "metadata": {},
   "outputs": [
    {
     "name": "stdout",
     "output_type": "stream",
     "text": [
      "Nombre de prenda Deniseausti \n",
      " Caracteristicas: \n",
      "  1)Manga: Corta\n",
      "  2)Cuello: Scoop \n",
      "  3)Bolsillos: 0 \n",
      "  4)Botones: 0\n",
      "  5)Imagen: 1\n",
      "¿Te gusta?. Si(1) | No(0) -> 0\n",
      "Nombre de prenda Nyfifth  \n",
      " Caracteristicas: \n",
      "  1)Manga: Corta\n",
      "  2)Cuello: Scoop \n",
      "  3)Bolsillos: 0 \n",
      "  4)Botones: 0\n",
      "  5)Imagen: 0\n",
      "¿Te gusta?. Si(1) | No(0) -> 0\n",
      "Nombre de prenda Ilovecashmere  \n",
      " Caracteristicas: \n",
      "  1)Manga: Larga\n",
      "  2)Cuello: Polo \n",
      "  3)Bolsillos: 0 \n",
      "  4)Botones: 0\n",
      "  5)Imagen: 0\n",
      "¿Te gusta?. Si(1) | No(0) -> 0\n",
      "Nombre de prenda Walmart  \n",
      " Caracteristicas: \n",
      "  1)Manga: Corta\n",
      "  2)Cuello: V-Neck \n",
      "  3)Bolsillos: 0 \n",
      "  4)Botones: 0\n",
      "  5)Imagen: 0\n",
      "¿Te gusta?. Si(1) | No(0) -> 0\n",
      "Nombre de prenda Tackroominc \n",
      " Caracteristicas: \n",
      "  1)Manga: Larga\n",
      "  2)Cuello: Polo \n",
      "  3)Bolsillos: 1 \n",
      "  4)Botones: 1\n",
      "  5)Imagen: 0\n",
      "¿Te gusta?. Si(1) | No(0) -> 1\n",
      "Nombre de prenda Shaina \n",
      " Caracteristicas: \n",
      "  1)Manga: Sin mangas\n",
      "  2)Cuello: Scoop \n",
      "  3)Bolsillos: 0 \n",
      "  4)Botones: 0\n",
      "  5)Imagen: 1\n",
      "¿Te gusta?. Si(1) | No(0) -> 1\n",
      "Nombre de prenda Test \n",
      " Caracteristicas: \n",
      "  1)Manga: Sin mangas\n",
      "  2)Cuello: Polo \n",
      "  3)Bolsillos: 0 \n",
      "  4)Botones: 0\n",
      "  5)Imagen: 0\n",
      "¿Te gusta?. Si(1) | No(0) -> 0\n",
      "Nombre de prenda Test \n",
      " Caracteristicas: \n",
      "  1)Manga: Corta\n",
      "  2)Cuello: Polo \n",
      "  3)Bolsillos: 1 \n",
      "  4)Botones: 0\n",
      "  5)Imagen: 1\n",
      "¿Te gusta?. Si(1) | No(0) -> 0\n",
      "Nombre de prenda Test \n",
      " Caracteristicas: \n",
      "  1)Manga: Sin mangas\n",
      "  2)Cuello: Scoop \n",
      "  3)Bolsillos: 0 \n",
      "  4)Botones: 1\n",
      "  5)Imagen: 0\n",
      "¿Te gusta?. Si(1) | No(0) -> 0\n"
     ]
    },
    {
     "data": {
      "text/plain": [
       "[0.0, 0.0, 0.0, 0.0, 1.0, 1.0, 0.0, 0.0, 0.0]"
      ]
     },
     "execution_count": 25,
     "metadata": {},
     "output_type": "execute_result"
    }
   ],
   "source": [
    "getLikes()"
   ]
  },
  {
   "cell_type": "code",
   "execution_count": 26,
   "metadata": {
    "scrolled": true
   },
   "outputs": [
    {
     "name": "stdout",
     "output_type": "stream",
     "text": [
      "Nombre de prenda Deniseausti \n",
      " Caracteristicas: \n",
      "  1)Manga: Corta\n",
      "  2)Cuello: Scoop \n",
      "  3)Bolsillos: 0 \n",
      "  4)Botones: 0\n",
      "  5)Imagen: 1\n",
      "¿Te gusta?. Si(1) | No(0) -> 0\n",
      "Nombre de prenda Nyfifth  \n",
      " Caracteristicas: \n",
      "  1)Manga: Corta\n",
      "  2)Cuello: Scoop \n",
      "  3)Bolsillos: 0 \n",
      "  4)Botones: 0\n",
      "  5)Imagen: 0\n",
      "¿Te gusta?. Si(1) | No(0) -> 0\n",
      "Nombre de prenda Ilovecashmere  \n",
      " Caracteristicas: \n",
      "  1)Manga: Larga\n",
      "  2)Cuello: Polo \n",
      "  3)Bolsillos: 0 \n",
      "  4)Botones: 0\n",
      "  5)Imagen: 0\n",
      "¿Te gusta?. Si(1) | No(0) -> 0\n",
      "Nombre de prenda Walmart  \n",
      " Caracteristicas: \n",
      "  1)Manga: Corta\n",
      "  2)Cuello: V-Neck \n",
      "  3)Bolsillos: 0 \n",
      "  4)Botones: 0\n",
      "  5)Imagen: 0\n",
      "¿Te gusta?. Si(1) | No(0) -> 0\n",
      "Nombre de prenda Tackroominc \n",
      " Caracteristicas: \n",
      "  1)Manga: Larga\n",
      "  2)Cuello: Polo \n",
      "  3)Bolsillos: 1 \n",
      "  4)Botones: 1\n",
      "  5)Imagen: 0\n",
      "¿Te gusta?. Si(1) | No(0) -> 1\n",
      "Nombre de prenda Shaina \n",
      " Caracteristicas: \n",
      "  1)Manga: Sin mangas\n",
      "  2)Cuello: Scoop \n",
      "  3)Bolsillos: 0 \n",
      "  4)Botones: 0\n",
      "  5)Imagen: 1\n",
      "¿Te gusta?. Si(1) | No(0) -> 1\n",
      "Nombre de prenda Test \n",
      " Caracteristicas: \n",
      "  1)Manga: Sin mangas\n",
      "  2)Cuello: Polo \n",
      "  3)Bolsillos: 0 \n",
      "  4)Botones: 0\n",
      "  5)Imagen: 0\n",
      "¿Te gusta?. Si(1) | No(0) -> 0\n",
      "Nombre de prenda Test \n",
      " Caracteristicas: \n",
      "  1)Manga: Corta\n",
      "  2)Cuello: Polo \n",
      "  3)Bolsillos: 1 \n",
      "  4)Botones: 0\n",
      "  5)Imagen: 1\n",
      "¿Te gusta?. Si(1) | No(0) -> 0\n",
      "Nombre de prenda Test \n",
      " Caracteristicas: \n",
      "  1)Manga: Sin mangas\n",
      "  2)Cuello: Scoop \n",
      "  3)Bolsillos: 0 \n",
      "  4)Botones: 1\n",
      "  5)Imagen: 0\n",
      "¿Te gusta?. Si(1) | No(0) -> 0\n"
     ]
    }
   ],
   "source": [
    "Y = np.array([getLikes()]).T"
   ]
  },
  {
   "cell_type": "code",
   "execution_count": 30,
   "metadata": {},
   "outputs": [
    {
     "data": {
      "text/plain": [
       "array([ 0.79122952])"
      ]
     },
     "execution_count": 30,
     "metadata": {},
     "output_type": "execute_result"
    }
   ],
   "source": [
    "forward(W, X[0, :], b)"
   ]
  },
  {
   "cell_type": "code",
   "execution_count": null,
   "metadata": {
    "collapsed": true
   },
   "outputs": [],
   "source": []
  }
 ],
 "metadata": {
  "kernelspec": {
   "display_name": "Python 3",
   "language": "python",
   "name": "python3"
  },
  "language_info": {
   "codemirror_mode": {
    "name": "ipython",
    "version": 3
   },
   "file_extension": ".py",
   "mimetype": "text/x-python",
   "name": "python",
   "nbconvert_exporter": "python",
   "pygments_lexer": "ipython3",
   "version": "3.6.1"
  }
 },
 "nbformat": 4,
 "nbformat_minor": 2
}
