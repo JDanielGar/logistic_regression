{
 "cells": [
  {
   "cell_type": "markdown",
   "metadata": {},
   "source": [
    "# Logistic Regression:"
   ]
  },
  {
   "cell_type": "markdown",
   "metadata": {
    "collapsed": true
   },
   "source": [
    "###### First we need to define Linear Regression."
   ]
  },
  {
   "cell_type": "code",
   "execution_count": 34,
   "metadata": {
    "collapsed": true
   },
   "outputs": [],
   "source": [
    "def Line(x, bias=0, slope=1):\n",
    "    return slope*x+bias"
   ]
  },
  {
   "cell_type": "code",
   "execution_count": 31,
   "metadata": {
    "collapsed": true
   },
   "outputs": [],
   "source": [
    "import numpy as np\n",
    "import matplotlib.pyplot as plt"
   ]
  },
  {
   "cell_type": "code",
   "execution_count": 32,
   "metadata": {
    "collapsed": true
   },
   "outputs": [],
   "source": [
    "# Our rect will be y = x\n",
    "x = np.array([-20, -10, 0, 10, 20])\n",
    "y = Line(x, 0)"
   ]
  },
  {
   "cell_type": "code",
   "execution_count": 33,
   "metadata": {},
   "outputs": [
    {
     "data": {
      "image/png": "[encoded data removed]",
      "text/plain": [
       "<matplotlib.figure.Figure at 0x174ad6dc0b8>"
      ]
     },
     "metadata": {},
     "output_type": "display_data"
    }
   ],
   "source": [
    "# Plot\n",
    "plt.figure()\n",
    "plt.plot(x, y)\n",
    "plt.show()"
   ]
  },
  {
   "cell_type": "code",
   "execution_count": 38,
   "metadata": {},
   "outputs": [
    {
     "data": {
      "image/png": "[encoded data removed]",
      "text/plain": [
       "<matplotlib.figure.Figure at 0x174ad74ebe0>"
      ]
     },
     "metadata": {},
     "output_type": "display_data"
    }
   ],
   "source": [
    "# Negative Slope\n",
    "x = np.array([1, 100, 200])\n",
    "y = Line(x, slope=-1)\n",
    "plt.plot(x, y)\n",
    "plt.show()"
   ]
  },
  {
   "cell_type": "markdown",
   "metadata": {
    "collapsed": true
   },
   "source": [
    "###### Now, we'll see the Logistic Regression in detail."
   ]
  },
  {
   "cell_type": "markdown",
   "metadata": {},
   "source": [
    "###### The LRreg is the unit of a Neural Network. Lets se what happend in code."
   ]
  },
  {
   "cell_type": "code",
   "execution_count": 40,
   "metadata": {
    "collapsed": true
   },
   "outputs": [],
   "source": [
    "N = 100\n",
    "D = 2"
   ]
  },
  {
   "cell_type": "code",
   "execution_count": 43,
   "metadata": {
    "collapsed": true
   },
   "outputs": [],
   "source": [
    "X = np.random.rand(N,D)\n",
    "ones = np.array([[1]*N]).T\n",
    "Xb = np.concatenate((ones, X), axis = 1)"
   ]
  },
  {
   "cell_type": "code",
   "execution_count": 44,
   "metadata": {
    "collapsed": true
   },
   "outputs": [],
   "source": [
    "w = np.random.rand(D + 1)"
   ]
  },
  {
   "cell_type": "markdown",
   "metadata": {},
   "source": [
    "###### What does these values are?"
   ]
  },
  {
   "cell_type": "code",
   "execution_count": 47,
   "metadata": {},
   "outputs": [
    {
     "data": {
      "text/plain": [
       "array([[ 0.16312962,  0.2579927 ],\n",
       "       [ 0.45048548,  0.82362598],\n",
       "       [ 0.81991032,  0.37580385],\n",
       "       [ 0.58040865,  0.0630884 ],\n",
       "       [ 0.47519633,  0.57238603],\n",
       "       [ 0.07026619,  0.64045786],\n",
       "       [ 0.09337222,  0.8863044 ],\n",
       "       [ 0.7267991 ,  0.1356334 ],\n",
       "       [ 0.81223848,  0.40363826],\n",
       "       [ 0.60394533,  0.79279184]])"
      ]
     },
     "execution_count": 47,
     "metadata": {},
     "output_type": "execute_result"
    }
   ],
   "source": [
    "X[: 10]"
   ]
  },
  {
   "cell_type": "code",
   "execution_count": 50,
   "metadata": {},
   "outputs": [
    {
     "data": {
      "text/plain": [
       "array([[1],\n",
       "       [1],\n",
       "       [1],\n",
       "       [1],\n",
       "       [1],\n",
       "       [1],\n",
       "       [1],\n",
       "       [1],\n",
       "       [1],\n",
       "       [1]])"
      ]
     },
     "execution_count": 50,
     "metadata": {},
     "output_type": "execute_result"
    }
   ],
   "source": [
    "ones[:10]"
   ]
  },
  {
   "cell_type": "code",
   "execution_count": 52,
   "metadata": {},
   "outputs": [
    {
     "data": {
      "text/plain": [
       "array([[ 1.        ,  0.16312962,  0.2579927 ],\n",
       "       [ 1.        ,  0.45048548,  0.82362598],\n",
       "       [ 1.        ,  0.81991032,  0.37580385],\n",
       "       [ 1.        ,  0.58040865,  0.0630884 ],\n",
       "       [ 1.        ,  0.47519633,  0.57238603],\n",
       "       [ 1.        ,  0.07026619,  0.64045786],\n",
       "       [ 1.        ,  0.09337222,  0.8863044 ],\n",
       "       [ 1.        ,  0.7267991 ,  0.1356334 ],\n",
       "       [ 1.        ,  0.81223848,  0.40363826],\n",
       "       [ 1.        ,  0.60394533,  0.79279184]])"
      ]
     },
     "execution_count": 52,
     "metadata": {},
     "output_type": "execute_result"
    }
   ],
   "source": [
    "Xb[: 10]"
   ]
  },
  {
   "cell_type": "code",
   "execution_count": 57,
   "metadata": {},
   "outputs": [
    {
     "data": {
      "text/plain": [
       "array([ 0.0443709 ,  0.80273208,  0.32549339])"
      ]
     },
     "execution_count": 57,
     "metadata": {},
     "output_type": "execute_result"
    }
   ],
   "source": [
    "w"
   ]
  },
  {
   "cell_type": "markdown",
   "metadata": {},
   "source": [
    "###### Lets start:"
   ]
  },
  {
   "cell_type": "code",
   "execution_count": 53,
   "metadata": {
    "collapsed": true
   },
   "outputs": [],
   "source": [
    "z = Xb.dot(w)"
   ]
  },
  {
   "cell_type": "code",
   "execution_count": 55,
   "metadata": {
    "collapsed": true
   },
   "outputs": [],
   "source": [
    "def sigmoid(z):\n",
    "    return 1/(1+np.exp(-z))"
   ]
  },
  {
   "cell_type": "code",
   "execution_count": 56,
   "metadata": {},
   "outputs": [
    {
     "data": {
      "text/plain": [
       "array([ 0.56446303,  0.66241499,  0.6952672 ,  0.62967397,  0.64842747,\n",
       "        0.5766999 ,  0.60056264,  0.66193823,  0.69588159,  0.68723532,\n",
       "        0.54369167,  0.55047302,  0.71380748,  0.66830069,  0.70037974,\n",
       "        0.68759714,  0.58291342,  0.72478823,  0.70926536,  0.65297014,\n",
       "        0.64071903,  0.58545097,  0.52586128,  0.66961156,  0.69463875,\n",
       "        0.67601623,  0.58232954,  0.69870488,  0.66082844,  0.65925825,\n",
       "        0.60665047,  0.64733182,  0.66048887,  0.72375205,  0.7262267 ,\n",
       "        0.64180815,  0.54881263,  0.70821604,  0.72763834,  0.70797284,\n",
       "        0.55092265,  0.71323248,  0.73125591,  0.6572288 ,  0.71577604,\n",
       "        0.5642992 ,  0.63769294,  0.7208189 ,  0.72437249,  0.62811024,\n",
       "        0.67327028,  0.683632  ,  0.60751989,  0.60105977,  0.57177594,\n",
       "        0.63238267,  0.75207436,  0.60030376,  0.60067979,  0.70222491,\n",
       "        0.66218792,  0.52752999,  0.65040414,  0.6851938 ,  0.69325562,\n",
       "        0.68197417,  0.63577503,  0.70684254,  0.63016879,  0.66230346,\n",
       "        0.56207927,  0.6993094 ,  0.62477632,  0.61665872,  0.68890366,\n",
       "        0.67495888,  0.73320074,  0.61787371,  0.71427791,  0.54001173,\n",
       "        0.65371663,  0.51632062,  0.62406156,  0.72342954,  0.58934707,\n",
       "        0.71817705,  0.67867285,  0.74970711,  0.6639177 ,  0.63750082,\n",
       "        0.72541598,  0.56045858,  0.6248795 ,  0.71956519,  0.67895501,\n",
       "        0.60809368,  0.57333555,  0.71924918,  0.65277893,  0.56372221])"
      ]
     },
     "execution_count": 56,
     "metadata": {},
     "output_type": "execute_result"
    }
   ],
   "source": [
    "sigmoid(z)"
   ]
  },
  {
   "cell_type": "markdown",
   "metadata": {},
   "source": [
    "###### Remember that the bias term is ones. "
   ]
  },
  {
   "cell_type": "markdown",
   "metadata": {},
   "source": [
    "# E-Commerce ( Pre-Processing Data )"
   ]
  },
  {
   "cell_type": "code",
   "execution_count": 68,
   "metadata": {
    "collapsed": true
   },
   "outputs": [],
   "source": [
    "import pandas as pd"
   ]
  },
  {
   "cell_type": "code",
   "execution_count": 150,
   "metadata": {
    "collapsed": true
   },
   "outputs": [],
   "source": [
    "def get_data():\n",
    "    df = pd.read_csv('ecommerce_data.csv') # Df = Data Frames    \n",
    "    data = df.as_matrix()\n",
    "    \n",
    "    # Split The Data\n",
    "    X = data[:, :-1]\n",
    "    Y = data[:, -1]\n",
    "    \n",
    "    # Normalize numerical columns\n",
    "    X[:, 1] = (X[:, 1] - X[:, 1].mean()) / X[:, 1].std()\n",
    "    X[:, 2] = (X[:, 2] - X[:, 2].mean()) / X[:, 2].std()\n",
    "    \n",
    "    # Categorical Data ( Time 1 | 2 | 3 | 4 )\n",
    "    N, D = X.shape\n",
    "    X2 = np.zeros((N, D+3))\n",
    "    X2[:, 0:(D-1)] = X[:, 0:(D-1)]\n",
    "    \n",
    "    for n in range(N):\n",
    "        t = int(X[n, D-1])\n",
    "        X2[n, t+D-1] = 1\n",
    "    \n",
    "    return X2, Y"
   ]
  },
  {
   "cell_type": "code",
   "execution_count": 152,
   "metadata": {},
   "outputs": [],
   "source": [
    "def get_binary_data():\n",
    "    X, Y = get_data()\n",
    "    X2 = X[Y <= 1]\n",
    "    Y2 = Y[Y <= 1]\n",
    "    return X2, Y2"
   ]
  },
  {
   "cell_type": "markdown",
   "metadata": {},
   "source": [
    "## Arrays Split Examples."
   ]
  },
  {
   "cell_type": "code",
   "execution_count": 125,
   "metadata": {
    "collapsed": true
   },
   "outputs": [],
   "source": [
    "matrix_data = np.random.rand(2, 3)"
   ]
  },
  {
   "cell_type": "code",
   "execution_count": 126,
   "metadata": {},
   "outputs": [
    {
     "data": {
      "text/plain": [
       "array([[ 0.79255663,  0.51787571,  0.89617357],\n",
       "       [ 0.59118326,  0.35207344,  0.65521573]])"
      ]
     },
     "execution_count": 126,
     "metadata": {},
     "output_type": "execute_result"
    }
   ],
   "source": [
    "matrix_data[:,:] # According to the direction"
   ]
  },
  {
   "cell_type": "code",
   "execution_count": 137,
   "metadata": {},
   "outputs": [
    {
     "data": {
      "text/plain": [
       "array([[ 0.79255663,  0.51787571,  0.89617357],\n",
       "       [ 0.59118326,  0.35207344,  0.65521573]])"
      ]
     },
     "execution_count": 137,
     "metadata": {},
     "output_type": "execute_result"
    }
   ],
   "source": [
    "matrix_data[0:,:] # Dont Split nothing in first row "
   ]
  },
  {
   "cell_type": "code",
   "execution_count": 138,
   "metadata": {},
   "outputs": [
    {
     "data": {
      "text/plain": [
       "array([], shape=(0, 3), dtype=float64)"
      ]
     },
     "execution_count": 138,
     "metadata": {},
     "output_type": "execute_result"
    }
   ],
   "source": [
    "matrix_data[:0,:] # Dont show nothing becouse you're not tanking anything from bottom to upper direction"
   ]
  },
  {
   "cell_type": "code",
   "execution_count": 139,
   "metadata": {},
   "outputs": [
    {
     "data": {
      "text/plain": [
       "array([[ 0.79255663,  0.51787571,  0.89617357],\n",
       "       [ 0.59118326,  0.35207344,  0.65521573]])"
      ]
     },
     "execution_count": 139,
     "metadata": {},
     "output_type": "execute_result"
    }
   ],
   "source": [
    "matrix_data[:,0:] # Show all becouse you are not taking anything from left direction to right direction"
   ]
  },
  {
   "cell_type": "code",
   "execution_count": 145,
   "metadata": {},
   "outputs": [
    {
     "data": {
      "text/plain": [
       "array([], shape=(2, 0), dtype=float64)"
      ]
     },
     "execution_count": 145,
     "metadata": {},
     "output_type": "execute_result"
    }
   ],
   "source": [
    "matrix_data[:,:0] # Dont take anything cause you arent taking nothing in the right to the left direction"
   ]
  },
  {
   "cell_type": "code",
   "execution_count": 141,
   "metadata": {},
   "outputs": [
    {
     "data": {
      "text/plain": [
       "array([[ 0.59118326,  0.35207344,  0.65521573]])"
      ]
     },
     "execution_count": 141,
     "metadata": {},
     "output_type": "execute_result"
    }
   ],
   "source": [
    "matrix_data[1:,:] # Take the first in the top to the bottom"
   ]
  },
  {
   "cell_type": "code",
   "execution_count": 142,
   "metadata": {},
   "outputs": [
    {
     "data": {
      "text/plain": [
       "array([[ 0.79255663,  0.51787571,  0.89617357]])"
      ]
     },
     "execution_count": 142,
     "metadata": {},
     "output_type": "execute_result"
    }
   ],
   "source": [
    "matrix_data[:1,:] # Take the first in the bottom to the top"
   ]
  },
  {
   "cell_type": "code",
   "execution_count": 146,
   "metadata": {},
   "outputs": [
    {
     "data": {
      "text/plain": [
       "array([[ 0.51787571,  0.89617357],\n",
       "       [ 0.35207344,  0.65521573]])"
      ]
     },
     "execution_count": 146,
     "metadata": {},
     "output_type": "execute_result"
    }
   ],
   "source": [
    "matrix_data[:,1:] # Take the first items except the 1"
   ]
  },
  {
   "cell_type": "code",
   "execution_count": 148,
   "metadata": {},
   "outputs": [
    {
     "data": {
      "text/plain": [
       "array([[ 0.79255663],\n",
       "       [ 0.59118326]])"
      ]
     },
     "execution_count": 148,
     "metadata": {},
     "output_type": "execute_result"
    }
   ],
   "source": [
    "matrix_data[:,:1] # Take only the first item."
   ]
  }
 ],
 "metadata": {
  "kernelspec": {
   "display_name": "Python 3",
   "language": "python",
   "name": "python3"
  },
  "language_info": {
   "codemirror_mode": {
    "name": "ipython",
    "version": 3
   },
   "file_extension": ".py",
   "mimetype": "text/x-python",
   "name": "python",
   "nbconvert_exporter": "python",
   "pygments_lexer": "ipython3",
   "version": "3.6.1"
  }
 },
 "nbformat": 4,
 "nbformat_minor": 2
}
