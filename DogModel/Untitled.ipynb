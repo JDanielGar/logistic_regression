{
 "cells": [
  {
   "cell_type": "code",
   "execution_count": 16,
   "metadata": {},
   "outputs": [],
   "source": [
    "# -*- coding: utf-8 -*-\n",
    "\"\"\"\n",
    "Created on Sun Oct 29 17:22:47 2017\n",
    "\n",
    "@author: Daniel\n",
    "\"\"\"\n",
    "#%%\n",
    "import pandas as pd\n",
    "import numpy as np\n",
    "from sklearn.utils import shuffle\n",
    "\n",
    "#%%\n",
    "df = pd.read_csv('dog.csv')\n",
    "data = df.as_matrix()\n",
    "\n",
    "#%% \n",
    "# Set X and Y\n",
    "\n",
    "X = data[:, :-1].astype(float)\n",
    "Y = data[:, -1:]\n",
    "\n",
    "# Normalize the data\n",
    "X[:, 0] = (X[:, 0] - X[:, 0].mean()) / X[:, 0].std()\n",
    "X[:, 1] = (X[:, 1] - X[:, 1].mean()) / X[:, 1].std()\n",
    "X[:, 2] = (X[:, 2] - X[:, 2].mean()) / X[:, 2].std()"
   ]
  },
  {
   "cell_type": "code",
   "execution_count": 18,
   "metadata": {},
   "outputs": [
    {
     "data": {
      "text/plain": [
       "array([[1],\n",
       "       [0],\n",
       "       [0],\n",
       "       [1],\n",
       "       [1],\n",
       "       [0],\n",
       "       [1],\n",
       "       [1],\n",
       "       [0],\n",
       "       [0]], dtype=int64)"
      ]
     },
     "execution_count": 18,
     "metadata": {},
     "output_type": "execute_result"
    }
   ],
   "source": [
    "Y"
   ]
  },
  {
   "cell_type": "code",
   "execution_count": 19,
   "metadata": {},
   "outputs": [],
   "source": [
    "\n",
    "# Dimensions of Array\n",
    "\n",
    "N, D = X.shape\n",
    "\n",
    "X, Y = shuffle(X, Y)\n",
    "\n",
    "# Initialize Weights and Bias Term.\n",
    "\n",
    "W = np.random.rand(D, 1)\n",
    "b = 0\n",
    "\n",
    "#%%\n",
    "\n",
    "def sigmoid(X):\n",
    "    return 1 / (1 + np.exp(-X))\n",
    " \n",
    "def forward(X, W, b):\n",
    "    return sigmoid(X.dot(W) + b)\n",
    "\n",
    "#%%\n",
    "    \n",
    "Xtrain = X[:6, :]\n",
    "Ytrain = Y[:6, :]\n",
    "\n",
    "Xtest = X[-3:]\n",
    "Ytest = Y[-3:]"
   ]
  },
  {
   "cell_type": "code",
   "execution_count": 22,
   "metadata": {},
   "outputs": [
    {
     "data": {
      "text/plain": [
       "array([[1],\n",
       "       [0],\n",
       "       [0],\n",
       "       [0],\n",
       "       [1],\n",
       "       [0]], dtype=int64)"
      ]
     },
     "execution_count": 22,
     "metadata": {},
     "output_type": "execute_result"
    }
   ],
   "source": [
    "Ytrain"
   ]
  },
  {
   "cell_type": "code",
   "execution_count": 23,
   "metadata": {},
   "outputs": [
    {
     "data": {
      "text/plain": [
       "array([[ 0.95580844],\n",
       "       [ 0.00491611],\n",
       "       [ 0.00457514],\n",
       "       [ 0.10645496],\n",
       "       [ 0.98712157],\n",
       "       [ 0.00757495]])"
      ]
     },
     "execution_count": 23,
     "metadata": {},
     "output_type": "execute_result"
    }
   ],
   "source": [
    "pYtrain"
   ]
  },
  {
   "cell_type": "code",
   "execution_count": 20,
   "metadata": {},
   "outputs": [
    {
     "name": "stdout",
     "output_type": "stream",
     "text": [
      "Final train Classification rate 1.0\n",
      "Final test classification rate 0.666666666667\n",
      "[ 0.71499675]\n"
     ]
    }
   ],
   "source": [
    "#%%\n",
    "\n",
    "def classification_rate(Y, P):\n",
    "    return np.mean(Y == P)\n",
    "\n",
    "#%%\n",
    "\n",
    "def cross_entropy(T, pY):\n",
    "    return -np.mean(T*np.log(pY) + (1 - T)*np.log(1 - pY))\n",
    "\n",
    "#%%\n",
    "\n",
    "train_costs = []\n",
    "test_costs = []\n",
    "learning_rate = .001\n",
    "\n",
    "#%%\n",
    "\n",
    "\n",
    "for i in range(10000):\n",
    "    pYtrain = forward(Xtrain, W, b)\n",
    "    pYtest = forward(Xtest, W, b)\n",
    "    \n",
    "    ctrain = cross_entropy(Ytrain, pYtrain)\n",
    "    ctest = cross_entropy(Ytest, pYtest)\n",
    "    \n",
    "    train_costs.append(ctrain)\n",
    "    test_costs.append(ctest)\n",
    "    \n",
    "    # Gradient Descent\n",
    "    \n",
    "    W -= learning_rate * Xtrain.T.dot(pYtrain - Ytrain)\n",
    "    b -= learning_rate * (pYtrain - Ytrain).sum()\n",
    "    \n",
    "    if(1 % 1000 == 0):\n",
    "        print(i, ctrain, ctest)\n",
    "        \n",
    "print(\"Final train Classification rate\", classification_rate(Ytrain, np.round(pYtrain)))\n",
    "print(\"Final test classification rate\", classification_rate(Ytest, np.round(pYtest)))\n",
    "\n",
    "#%%\n",
    "\n",
    "def predict(X, W, b):\n",
    "    print(forward(X, W, b))\n",
    "    \n",
    "test = np.array([0, 0, 1, 0])\n",
    "\n",
    "#%%\n",
    "\n",
    "predict(test, W, b)\n",
    "\n",
    "#"
   ]
  },
  {
   "cell_type": "code",
   "execution_count": 24,
   "metadata": {},
   "outputs": [
    {
     "data": {
      "text/plain": [
       "array([[ 0.95580844],\n",
       "       [ 0.00491611],\n",
       "       [ 0.00457514],\n",
       "       [ 0.10645496],\n",
       "       [ 0.98712157],\n",
       "       [ 0.00757495]])"
      ]
     },
     "execution_count": 24,
     "metadata": {},
     "output_type": "execute_result"
    }
   ],
   "source": [
    "pYtrain"
   ]
  },
  {
   "cell_type": "code",
   "execution_count": 25,
   "metadata": {},
   "outputs": [
    {
     "data": {
      "text/plain": [
       "array([[1],\n",
       "       [0],\n",
       "       [0],\n",
       "       [0],\n",
       "       [1],\n",
       "       [0]], dtype=int64)"
      ]
     },
     "execution_count": 25,
     "metadata": {},
     "output_type": "execute_result"
    }
   ],
   "source": [
    "Ytrain"
   ]
  },
  {
   "cell_type": "code",
   "execution_count": 26,
   "metadata": {},
   "outputs": [
    {
     "data": {
      "text/plain": [
       "array([[-0.81649658, -0.54232614,  1.02454353,  1.        ],\n",
       "       [ 1.22474487,  1.62697843, -1.33978769,  0.        ],\n",
       "       [-1.83711731, -1.62697843, -1.33978769,  0.        ],\n",
       "       [ 0.20412415, -0.54232614,  0.23643312,  0.        ],\n",
       "       [-0.81649658,  0.54232614,  1.02454353,  1.        ],\n",
       "       [ 0.20412415, -0.54232614, -1.33978769,  1.        ]])"
      ]
     },
     "execution_count": 26,
     "metadata": {},
     "output_type": "execute_result"
    }
   ],
   "source": [
    "Xtrain"
   ]
  },
  {
   "cell_type": "code",
   "execution_count": 27,
   "metadata": {
    "collapsed": true
   },
   "outputs": [],
   "source": [
    "test = pYtrain - Ytrain"
   ]
  },
  {
   "cell_type": "code",
   "execution_count": 30,
   "metadata": {},
   "outputs": [
    {
     "data": {
      "text/plain": [
       "(6, 1)"
      ]
     },
     "execution_count": 30,
     "metadata": {},
     "output_type": "execute_result"
    }
   ],
   "source": [
    "test.shape"
   ]
  },
  {
   "cell_type": "code",
   "execution_count": 31,
   "metadata": {},
   "outputs": [
    {
     "data": {
      "text/plain": [
       "(6, 4)"
      ]
     },
     "execution_count": 31,
     "metadata": {},
     "output_type": "execute_result"
    }
   ],
   "source": [
    "Xtrain.shape"
   ]
  },
  {
   "cell_type": "code",
   "execution_count": 34,
   "metadata": {},
   "outputs": [
    {
     "data": {
      "text/plain": [
       "array([[ 0.06748962],\n",
       "       [-0.04430472],\n",
       "       [-0.05616631],\n",
       "       [-0.04949504]])"
      ]
     },
     "execution_count": 34,
     "metadata": {},
     "output_type": "execute_result"
    }
   ],
   "source": [
    "Xtrain.T.dot(test)"
   ]
  },
  {
   "cell_type": "code",
   "execution_count": null,
   "metadata": {
    "collapsed": true
   },
   "outputs": [],
   "source": []
  }
 ],
 "metadata": {
  "kernelspec": {
   "display_name": "Python 3",
   "language": "python",
   "name": "python3"
  },
  "language_info": {
   "codemirror_mode": {
    "name": "ipython",
    "version": 3
   },
   "file_extension": ".py",
   "mimetype": "text/x-python",
   "name": "python",
   "nbconvert_exporter": "python",
   "pygments_lexer": "ipython3",
   "version": "3.6.1"
  }
 },
 "nbformat": 4,
 "nbformat_minor": 2
}
